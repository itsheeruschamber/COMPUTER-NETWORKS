{
  "nbformat": 4,
  "nbformat_minor": 0,
  "metadata": {
    "colab": {
      "provenance": []
    },
    "kernelspec": {
      "name": "python3",
      "display_name": "Python 3"
    },
    "language_info": {
      "name": "python"
    }
  },
  "cells": [
    {
      "cell_type": "code",
      "execution_count": 4,
      "metadata": {
        "colab": {
          "base_uri": "https://localhost:8080/"
        },
        "id": "CgnLvY_3rleY",
        "outputId": "fb9ad2f1-af75-42f2-b737-7bc99140c7f5"
      },
      "outputs": [
        {
          "output_type": "stream",
          "name": "stdout",
          "text": [
            "Sender side...\n",
            "Remainder: 010000000\n",
            "Encoded Data (Data + Remainder): 100100010000000\n",
            "\n",
            "Receiver side...\n",
            "correct message received\n"
          ]
        }
      ],
      "source": [
        "def xor(a, b):\n",
        "    result = []\n",
        "    for i in range(len(b)):\n",
        "        if a[i] == b[i]:\n",
        "            result.append('0')\n",
        "        else:\n",
        "            result.append('1')\n",
        "    return ''.join(result)\n",
        "def mod2div(dividend, divisor):\n",
        "    pick = len(divisor)\n",
        "    tmp = dividend[0: pick]\n",
        "    while pick < len(dividend):\n",
        "        if tmp[0] == '1':\n",
        "            tmp = xor(divisor, tmp) + dividend[pick]\n",
        "        else:\n",
        "            tmp = xor('0' * pick, tmp) + dividend[pick]\n",
        "        pick += 1\n",
        "    if tmp[0] == '1':\n",
        "        tmp = xor(divisor, tmp)\n",
        "    else:\n",
        "        tmp = xor('0' * pick, tmp)\n",
        "    checkword = tmp\n",
        "    return checkword\n",
        "def encodeData(data, key):\n",
        "    l_key = len(key)\n",
        "    appended_data = data + '0' * (l_key - 1)\n",
        "    remainder = mod2div(appended_data, key)\n",
        "    codeword = data + remainder\n",
        "    print(\"Sender side...\\nRemainder:\", remainder)\n",
        "    print(\"Encoded Data (Data + Remainder):\", codeword)\n",
        "    print(\"\\nReceiver side...\\ncorrect message received\")\n",
        "data = \"100100\"\n",
        "key = \"1101\"\n",
        "encodeData(data, key)\n"
      ]
    }
  ]
}