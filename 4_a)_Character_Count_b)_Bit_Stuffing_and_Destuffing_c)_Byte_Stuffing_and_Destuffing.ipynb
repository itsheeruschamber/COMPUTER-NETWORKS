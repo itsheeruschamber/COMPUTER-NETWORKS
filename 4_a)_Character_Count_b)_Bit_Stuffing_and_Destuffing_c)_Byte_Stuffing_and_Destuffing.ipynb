{
  "nbformat": 4,
  "nbformat_minor": 0,
  "metadata": {
    "colab": {
      "provenance": []
    },
    "kernelspec": {
      "name": "python3",
      "display_name": "Python 3"
    },
    "language_info": {
      "name": "python"
    }
  },
  "cells": [
    {
      "cell_type": "code",
      "execution_count": 1,
      "metadata": {
        "colab": {
          "base_uri": "https://localhost:8080/"
        },
        "id": "Prgy6mc0o0Hf",
        "outputId": "f4c12e1f-db95-4460-b904-556622ff3142"
      },
      "outputs": [
        {
          "output_type": "stream",
          "name": "stdout",
          "text": [
            "{'h': 1, 'e': 1, 'l': 3, 'o': 2, ' ': 1, 'w': 1, 'r': 1, 'd': 1}\n"
          ]
        }
      ],
      "source": [
        "def character_count(message):\n",
        "    count_dict = {}\n",
        "    for char in message:\n",
        "        if char in count_dict:\n",
        "            count_dict[char] += 1\n",
        "        else:\n",
        "            count_dict[char] = 1\n",
        "    return count_dict\n",
        "\n",
        "# Example Usage:\n",
        "message = \"hello world\"\n",
        "result = character_count(message)\n",
        "print(result)\n"
      ]
    },
    {
      "cell_type": "code",
      "source": [
        "def bit_stuffing(data):\n",
        "    stuffed_data = \"01111110\"\n",
        "    count = 0\n",
        "\n",
        "    for bit in data:\n",
        "        if bit == '1':\n",
        "            count += 1\n",
        "        else:\n",
        "            count = 0\n",
        "\n",
        "        stuffed_data += bit\n",
        "        if count == 5:\n",
        "            stuffed_data += '0'\n",
        "            count = 0\n",
        "\n",
        "    stuffed_data += \"01111110\"\n",
        "    return stuffed_data\n",
        "\n",
        "def bit_destuffing(stuffed_data):\n",
        "    destuffed_data = \"\"\n",
        "    count = 0\n",
        "\n",
        "    for bit in stuffed_data[8:-8]:\n",
        "        if bit == '1':\n",
        "            count += 1\n",
        "        else:\n",
        "            count = 0\n",
        "\n",
        "        destuffed_data += bit\n",
        "        if count == 5:\n",
        "            count = 0\n",
        "            continue\n",
        "\n",
        "    return destuffed_data\n",
        "\n",
        "# Example Usage:\n",
        "data = \"01111110011011011110111111111110\"\n",
        "stuffed_data = bit_stuffing(data)\n",
        "destuffed_data = bit_destuffing(stuffed_data)\n",
        "\n",
        "print(\"Original Data:\", data)\n",
        "print(\"Stuffed Data:\", stuffed_data)\n",
        "print(\"Destuffed Data:\", destuffed_data)\n"
      ],
      "metadata": {
        "colab": {
          "base_uri": "https://localhost:8080/"
        },
        "id": "3Ho_EyXHo5BS",
        "outputId": "3a848bb9-e49c-44b3-877c-f67312f1a1a4"
      },
      "execution_count": 2,
      "outputs": [
        {
          "output_type": "stream",
          "name": "stdout",
          "text": [
            "Original Data: 01111110011011011110111111111110\n",
            "Stuffed Data: 011111100111110100110110111101111101111101001111110\n",
            "Destuffed Data: 01111101001101101111011111011111010\n"
          ]
        }
      ]
    },
    {
      "cell_type": "code",
      "source": [
        "def byte_stuffing(data):\n",
        "    stuffed_data = \"DLESTX\"\n",
        "    for byte in data:\n",
        "        if byte == \"DLE\":\n",
        "            stuffed_data += \"DLE\"\n",
        "        stuffed_data += byte\n",
        "    stuffed_data += \"DLEETX\"\n",
        "    return stuffed_data\n",
        "\n",
        "def byte_destuffing(stuffed_data):\n",
        "    destuffed_data = \"\"\n",
        "    i = 0\n",
        "\n",
        "    while i < len(stuffed_data):\n",
        "        if stuffed_data[i:i+3] == \"DLE\":\n",
        "            destuffed_data += stuffed_data[i+3]\n",
        "            i += 4\n",
        "        else:\n",
        "            destuffed_data += stuffed_data[i]\n",
        "            i += 1\n",
        "\n",
        "    return destuffed_data\n",
        "\n",
        "# Example Usage:\n",
        "data = \"ABCDDLEDEFG\"\n",
        "stuffed_data = byte_stuffing(data)\n",
        "destuffed_data = byte_destuffing(stuffed_data)\n",
        "\n",
        "print(\"Original Data:\", data)\n",
        "print(\"Stuffed Data:\", stuffed_data)\n",
        "print(\"Destuffed Data:\", destuffed_data)\n"
      ],
      "metadata": {
        "colab": {
          "base_uri": "https://localhost:8080/"
        },
        "id": "uQp0h7eUo5To",
        "outputId": "3434a232-be7a-4f50-bd98-f9f004886cf0"
      },
      "execution_count": 3,
      "outputs": [
        {
          "output_type": "stream",
          "name": "stdout",
          "text": [
            "Original Data: ABCDDLEDEFG\n",
            "Stuffed Data: DLESTXABCDDLEDEFGDLEETX\n",
            "Destuffed Data: STXABCDDEFGETX\n"
          ]
        }
      ]
    }
  ]
}